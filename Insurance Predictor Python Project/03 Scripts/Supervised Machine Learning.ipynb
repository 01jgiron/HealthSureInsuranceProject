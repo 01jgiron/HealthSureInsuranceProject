{
 "cells": [
  {
   "cell_type": "markdown",
   "id": "b00976f5",
   "metadata": {},
   "source": [
    "# Import Libraries"
   ]
  },
  {
   "cell_type": "code",
   "execution_count": 7,
   "id": "20385f21",
   "metadata": {},
   "outputs": [
    {
     "name": "stdout",
     "output_type": "stream",
     "text": [
      "Requirement already satisfied: scikit-learn in /Users/jessicagiron/anaconda3/lib/python3.10/site-packages (1.2.1)\n",
      "Requirement already satisfied: numpy>=1.17.3 in /Users/jessicagiron/anaconda3/lib/python3.10/site-packages (from scikit-learn) (1.23.5)\n",
      "Requirement already satisfied: joblib>=1.1.1 in /Users/jessicagiron/anaconda3/lib/python3.10/site-packages (from scikit-learn) (1.1.1)\n",
      "Requirement already satisfied: scipy>=1.3.2 in /Users/jessicagiron/anaconda3/lib/python3.10/site-packages (from scikit-learn) (1.10.1)\n",
      "Requirement already satisfied: threadpoolctl>=2.0.0 in /Users/jessicagiron/anaconda3/lib/python3.10/site-packages (from scikit-learn) (2.2.0)\n"
     ]
    }
   ],
   "source": [
    "\n",
    "!pip install scikit-learn"
   ]
  },
  {
   "cell_type": "code",
   "execution_count": 5,
   "id": "3b445515",
   "metadata": {},
   "outputs": [],
   "source": [
    "import sklearn as sl"
   ]
  },
  {
   "cell_type": "code",
   "execution_count": 10,
   "id": "4e6e5b12",
   "metadata": {},
   "outputs": [
    {
     "name": "stdout",
     "output_type": "stream",
     "text": [
      "/Users/jessicagiron/Desktop/Insurance Predictor Python Project/02 Data/df.3.csv\n"
     ]
    }
   ],
   "source": [
    "# Import Libraries\n",
    "\n",
    "import pandas as pd\n",
    "import numpy as np\n",
    "import os\n",
    "import matplotlib.pyplot as plt\n",
    "import seaborn as sns\n",
    "import scipy\n",
    "import matplotlib\n",
    "import folium \n",
    "import json\n",
    "from sklearn.linear_model import LinearRegression\n",
    "from sklearn.model_selection import train_test_split\n",
    "from sklearn.metrics import mean_squared_error, r2_score\n",
    "\n",
    "country_geo = r'/Users/jessicagiron/Desktop/Insurance Predictor Python Project/02 Data/geoJSON_us_regions.txt'\n",
    "\n",
    "path=r'/Users/jessicagiron/Desktop/Insurance Predictor Python Project/02 Data/df.3.csv'\n",
    "print(path)\n",
    "df=pd.read_csv(path, index_col=False)\n",
    "\n",
    "%matplotlib inline\n",
    "\n"
   ]
  },
  {
   "cell_type": "code",
   "execution_count": 8,
   "id": "8ea62ae4",
   "metadata": {},
   "outputs": [
    {
     "data": {
      "text/html": [
       "<div>\n",
       "<style scoped>\n",
       "    .dataframe tbody tr th:only-of-type {\n",
       "        vertical-align: middle;\n",
       "    }\n",
       "\n",
       "    .dataframe tbody tr th {\n",
       "        vertical-align: top;\n",
       "    }\n",
       "\n",
       "    .dataframe thead th {\n",
       "        text-align: right;\n",
       "    }\n",
       "</style>\n",
       "<table border=\"1\" class=\"dataframe\">\n",
       "  <thead>\n",
       "    <tr style=\"text-align: right;\">\n",
       "      <th></th>\n",
       "      <th>Unnamed: 0</th>\n",
       "      <th>age</th>\n",
       "      <th>sex</th>\n",
       "      <th>bmi</th>\n",
       "      <th>number_of_children</th>\n",
       "      <th>smoker</th>\n",
       "      <th>region</th>\n",
       "      <th>annual_insurance_cost</th>\n",
       "      <th>cost_category</th>\n",
       "      <th>age_category</th>\n",
       "      <th>bmi_category</th>\n",
       "    </tr>\n",
       "  </thead>\n",
       "  <tbody>\n",
       "    <tr>\n",
       "      <th>0</th>\n",
       "      <td>0</td>\n",
       "      <td>19</td>\n",
       "      <td>female</td>\n",
       "      <td>27.900</td>\n",
       "      <td>0</td>\n",
       "      <td>yes</td>\n",
       "      <td>southwest</td>\n",
       "      <td>16884.92400</td>\n",
       "      <td>High Cost</td>\n",
       "      <td>young adulthood</td>\n",
       "      <td>overweight</td>\n",
       "    </tr>\n",
       "    <tr>\n",
       "      <th>1</th>\n",
       "      <td>1</td>\n",
       "      <td>18</td>\n",
       "      <td>male</td>\n",
       "      <td>33.770</td>\n",
       "      <td>1</td>\n",
       "      <td>no</td>\n",
       "      <td>southeast</td>\n",
       "      <td>1725.55230</td>\n",
       "      <td>Low Cost</td>\n",
       "      <td>young adulthood</td>\n",
       "      <td>obesity</td>\n",
       "    </tr>\n",
       "    <tr>\n",
       "      <th>2</th>\n",
       "      <td>2</td>\n",
       "      <td>28</td>\n",
       "      <td>male</td>\n",
       "      <td>33.000</td>\n",
       "      <td>3</td>\n",
       "      <td>no</td>\n",
       "      <td>southeast</td>\n",
       "      <td>4449.46200</td>\n",
       "      <td>Low Cost</td>\n",
       "      <td>young adulthood</td>\n",
       "      <td>obesity</td>\n",
       "    </tr>\n",
       "    <tr>\n",
       "      <th>3</th>\n",
       "      <td>3</td>\n",
       "      <td>33</td>\n",
       "      <td>male</td>\n",
       "      <td>22.705</td>\n",
       "      <td>0</td>\n",
       "      <td>no</td>\n",
       "      <td>northwest</td>\n",
       "      <td>21984.47061</td>\n",
       "      <td>High Cost</td>\n",
       "      <td>middle age adulthood</td>\n",
       "      <td>healthy weight</td>\n",
       "    </tr>\n",
       "    <tr>\n",
       "      <th>4</th>\n",
       "      <td>4</td>\n",
       "      <td>32</td>\n",
       "      <td>male</td>\n",
       "      <td>28.880</td>\n",
       "      <td>0</td>\n",
       "      <td>no</td>\n",
       "      <td>northwest</td>\n",
       "      <td>3866.85520</td>\n",
       "      <td>Low Cost</td>\n",
       "      <td>middle age adulthood</td>\n",
       "      <td>overweight</td>\n",
       "    </tr>\n",
       "  </tbody>\n",
       "</table>\n",
       "</div>"
      ],
      "text/plain": [
       "   Unnamed: 0  age     sex     bmi  number_of_children smoker     region  \\\n",
       "0           0   19  female  27.900                   0    yes  southwest   \n",
       "1           1   18    male  33.770                   1     no  southeast   \n",
       "2           2   28    male  33.000                   3     no  southeast   \n",
       "3           3   33    male  22.705                   0     no  northwest   \n",
       "4           4   32    male  28.880                   0     no  northwest   \n",
       "\n",
       "   annual_insurance_cost cost_category          age_category    bmi_category  \n",
       "0            16884.92400     High Cost       young adulthood      overweight  \n",
       "1             1725.55230      Low Cost       young adulthood         obesity  \n",
       "2             4449.46200      Low Cost       young adulthood         obesity  \n",
       "3            21984.47061     High Cost  middle age adulthood  healthy weight  \n",
       "4             3866.85520      Low Cost  middle age adulthood      overweight  "
      ]
     },
     "execution_count": 8,
     "metadata": {},
     "output_type": "execute_result"
    }
   ],
   "source": [
    "df.head()"
   ]
  },
  {
   "cell_type": "markdown",
   "id": "6e200831",
   "metadata": {},
   "source": [
    "# BMI and Insurance "
   ]
  },
  {
   "cell_type": "code",
   "execution_count": 15,
   "id": "6c5e96a9",
   "metadata": {},
   "outputs": [],
   "source": [
    "#reshape the variables needed into numpy arrays and put them into separate objects\n",
    "\n",
    "X = df['bmi'].values.reshape(-1,1)\n",
    "y = df['annual_insurance_cost'].values.reshape(-1,1)"
   ]
  },
  {
   "cell_type": "code",
   "execution_count": 21,
   "id": "27d6a5db",
   "metadata": {},
   "outputs": [
    {
     "data": {
      "text/plain": [
       "array([[27.9 ],\n",
       "       [33.77],\n",
       "       [33.  ],\n",
       "       ...,\n",
       "       [36.85],\n",
       "       [25.8 ],\n",
       "       [29.07]])"
      ]
     },
     "execution_count": 21,
     "metadata": {},
     "output_type": "execute_result"
    }
   ],
   "source": [
    "X"
   ]
  },
  {
   "cell_type": "code",
   "execution_count": 22,
   "id": "7b1ef295",
   "metadata": {},
   "outputs": [
    {
     "data": {
      "text/plain": [
       "array([[16884.924 ],\n",
       "       [ 1725.5523],\n",
       "       [ 4449.462 ],\n",
       "       ...,\n",
       "       [ 1629.8335],\n",
       "       [ 2007.945 ],\n",
       "       [29141.3603]])"
      ]
     },
     "execution_count": 22,
     "metadata": {},
     "output_type": "execute_result"
    }
   ],
   "source": [
    "y"
   ]
  },
  {
   "cell_type": "code",
   "execution_count": 16,
   "id": "456461d0",
   "metadata": {},
   "outputs": [],
   "source": [
    "# Split data into train set and test set\n",
    "\n",
    "X_train, X_test, y_train, y_test = train_test_split(X, y, test_size=0.3, random_state=0)"
   ]
  },
  {
   "cell_type": "code",
   "execution_count": 17,
   "id": "85fbde46",
   "metadata": {},
   "outputs": [],
   "source": [
    "#create regression object\n",
    "\n",
    "regression = LinearRegression()"
   ]
  },
  {
   "cell_type": "code",
   "execution_count": 19,
   "id": "0bea460a",
   "metadata": {},
   "outputs": [
    {
     "data": {
      "text/html": [
       "<style>#sk-container-id-1 {color: black;background-color: white;}#sk-container-id-1 pre{padding: 0;}#sk-container-id-1 div.sk-toggleable {background-color: white;}#sk-container-id-1 label.sk-toggleable__label {cursor: pointer;display: block;width: 100%;margin-bottom: 0;padding: 0.3em;box-sizing: border-box;text-align: center;}#sk-container-id-1 label.sk-toggleable__label-arrow:before {content: \"▸\";float: left;margin-right: 0.25em;color: #696969;}#sk-container-id-1 label.sk-toggleable__label-arrow:hover:before {color: black;}#sk-container-id-1 div.sk-estimator:hover label.sk-toggleable__label-arrow:before {color: black;}#sk-container-id-1 div.sk-toggleable__content {max-height: 0;max-width: 0;overflow: hidden;text-align: left;background-color: #f0f8ff;}#sk-container-id-1 div.sk-toggleable__content pre {margin: 0.2em;color: black;border-radius: 0.25em;background-color: #f0f8ff;}#sk-container-id-1 input.sk-toggleable__control:checked~div.sk-toggleable__content {max-height: 200px;max-width: 100%;overflow: auto;}#sk-container-id-1 input.sk-toggleable__control:checked~label.sk-toggleable__label-arrow:before {content: \"▾\";}#sk-container-id-1 div.sk-estimator input.sk-toggleable__control:checked~label.sk-toggleable__label {background-color: #d4ebff;}#sk-container-id-1 div.sk-label input.sk-toggleable__control:checked~label.sk-toggleable__label {background-color: #d4ebff;}#sk-container-id-1 input.sk-hidden--visually {border: 0;clip: rect(1px 1px 1px 1px);clip: rect(1px, 1px, 1px, 1px);height: 1px;margin: -1px;overflow: hidden;padding: 0;position: absolute;width: 1px;}#sk-container-id-1 div.sk-estimator {font-family: monospace;background-color: #f0f8ff;border: 1px dotted black;border-radius: 0.25em;box-sizing: border-box;margin-bottom: 0.5em;}#sk-container-id-1 div.sk-estimator:hover {background-color: #d4ebff;}#sk-container-id-1 div.sk-parallel-item::after {content: \"\";width: 100%;border-bottom: 1px solid gray;flex-grow: 1;}#sk-container-id-1 div.sk-label:hover label.sk-toggleable__label {background-color: #d4ebff;}#sk-container-id-1 div.sk-serial::before {content: \"\";position: absolute;border-left: 1px solid gray;box-sizing: border-box;top: 0;bottom: 0;left: 50%;z-index: 0;}#sk-container-id-1 div.sk-serial {display: flex;flex-direction: column;align-items: center;background-color: white;padding-right: 0.2em;padding-left: 0.2em;position: relative;}#sk-container-id-1 div.sk-item {position: relative;z-index: 1;}#sk-container-id-1 div.sk-parallel {display: flex;align-items: stretch;justify-content: center;background-color: white;position: relative;}#sk-container-id-1 div.sk-item::before, #sk-container-id-1 div.sk-parallel-item::before {content: \"\";position: absolute;border-left: 1px solid gray;box-sizing: border-box;top: 0;bottom: 0;left: 50%;z-index: -1;}#sk-container-id-1 div.sk-parallel-item {display: flex;flex-direction: column;z-index: 1;position: relative;background-color: white;}#sk-container-id-1 div.sk-parallel-item:first-child::after {align-self: flex-end;width: 50%;}#sk-container-id-1 div.sk-parallel-item:last-child::after {align-self: flex-start;width: 50%;}#sk-container-id-1 div.sk-parallel-item:only-child::after {width: 0;}#sk-container-id-1 div.sk-dashed-wrapped {border: 1px dashed gray;margin: 0 0.4em 0.5em 0.4em;box-sizing: border-box;padding-bottom: 0.4em;background-color: white;}#sk-container-id-1 div.sk-label label {font-family: monospace;font-weight: bold;display: inline-block;line-height: 1.2em;}#sk-container-id-1 div.sk-label-container {text-align: center;}#sk-container-id-1 div.sk-container {/* jupyter's `normalize.less` sets `[hidden] { display: none; }` but bootstrap.min.css set `[hidden] { display: none !important; }` so we also need the `!important` here to be able to override the default hidden behavior on the sphinx rendered scikit-learn.org. See: https://github.com/scikit-learn/scikit-learn/issues/21755 */display: inline-block !important;position: relative;}#sk-container-id-1 div.sk-text-repr-fallback {display: none;}</style><div id=\"sk-container-id-1\" class=\"sk-top-container\"><div class=\"sk-text-repr-fallback\"><pre>LinearRegression()</pre><b>In a Jupyter environment, please rerun this cell to show the HTML representation or trust the notebook. <br />On GitHub, the HTML representation is unable to render, please try loading this page with nbviewer.org.</b></div><div class=\"sk-container\" hidden><div class=\"sk-item\"><div class=\"sk-estimator sk-toggleable\"><input class=\"sk-toggleable__control sk-hidden--visually\" id=\"sk-estimator-id-1\" type=\"checkbox\" checked><label for=\"sk-estimator-id-1\" class=\"sk-toggleable__label sk-toggleable__label-arrow\">LinearRegression</label><div class=\"sk-toggleable__content\"><pre>LinearRegression()</pre></div></div></div></div></div>"
      ],
      "text/plain": [
       "LinearRegression()"
      ]
     },
     "execution_count": 19,
     "metadata": {},
     "output_type": "execute_result"
    }
   ],
   "source": [
    "# fit the regression to the train set\n",
    "\n",
    "regression.fit(X_train, y_train)"
   ]
  },
  {
   "cell_type": "code",
   "execution_count": 20,
   "id": "143186b9",
   "metadata": {},
   "outputs": [],
   "source": [
    "# predict the values of y using x\n",
    "\n",
    "y_predicted = regression.predict(X_test)"
   ]
  },
  {
   "cell_type": "code",
   "execution_count": 33,
   "id": "20dda558",
   "metadata": {},
   "outputs": [
    {
     "data": {
      "image/png": "[encoded data removed]",
      "text/plain": [
       "<Figure size 640x480 with 1 Axes>"
      ]
     },
     "metadata": {},
     "output_type": "display_data"
    }
   ],
   "source": [
    "# Create a plot that shows the regression line from the model on the test set.\n",
    "\n",
    "plot_test = plt\n",
    "plot_test.scatter(X_test, y_test, color='gray', s = 15)\n",
    "plot_test.plot(X_test, y_predicted, color='red', linewidth =3)\n",
    "plot_test.title('BMI and Annual Insurance Cost (Test set)')\n",
    "plot_test.xlabel('BMI')\n",
    "plot_test.ylabel('Annual_insurance_cost')\n",
    "plot_test.show()"
   ]
  },
  {
   "cell_type": "markdown",
   "id": "ce5210d5",
   "metadata": {},
   "source": [
    "The line does not fit very well showing that there is a weak correlation. The R2 score is low as well, proving the point that there is a weak but positive correlation between BMI and annual insurance cost. "
   ]
  },
  {
   "cell_type": "code",
   "execution_count": 24,
   "id": "5f0b132e",
   "metadata": {},
   "outputs": [],
   "source": [
    "# Create objects that contain the model summary statistics.\n",
    "\n",
    "rmse = mean_squared_error(y_test, y_predicted) # This is the mean squared error\n",
    "r2 = r2_score(y_test, y_predicted) # This is the R2 score. "
   ]
  },
  {
   "cell_type": "code",
   "execution_count": 26,
   "id": "7daa544d",
   "metadata": {},
   "outputs": [
    {
     "name": "stdout",
     "output_type": "stream",
     "text": [
      "Slope: [[301.18863244]]\n",
      "Mean squared error:  154131658.7511644\n",
      "R2 score:  0.05879287466812988\n"
     ]
    }
   ],
   "source": [
    "# Print the model summary statistics. Evaluate the performance of the model.\n",
    "\n",
    "print('Slope:' ,regression.coef_)\n",
    "print('Mean squared error: ', rmse)\n",
    "print('R2 score: ', r2)"
   ]
  },
  {
   "cell_type": "code",
   "execution_count": 27,
   "id": "c798c0bd",
   "metadata": {},
   "outputs": [
    {
     "data": {
      "text/plain": [
       "array([[15772.62039644],\n",
       "       [12625.19918748],\n",
       "       [13221.55267971],\n",
       "       [12890.24518403],\n",
       "       [ 9215.74386831],\n",
       "       [ 9101.29218798],\n",
       "       [11705.06791539],\n",
       "       [ 9742.82397507],\n",
       "       [11533.3903949 ],\n",
       "       [14766.6503641 ],\n",
       "       [13155.29118057],\n",
       "       [11929.45344656],\n",
       "       [13250.16559979],\n",
       "       [12757.72218576],\n",
       "       [11580.07463293],\n",
       "       [18953.17235496],\n",
       "       [11876.74543588],\n",
       "       [13564.90772068],\n",
       "       [ 8843.77590725],\n",
       "       [13707.97232109],\n",
       "       [13221.55267971],\n",
       "       [12423.40280375],\n",
       "       [12935.42347889],\n",
       "       [13221.55267971],\n",
       "       [13950.4291702 ],\n",
       "       [15024.16664484],\n",
       "       [ 8986.84050766],\n",
       "       [13387.20642755],\n",
       "       [11531.88445174],\n",
       "       [14509.13408337],\n",
       "       [12420.39091743],\n",
       "       [16700.28138434],\n",
       "       [10435.55782968],\n",
       "       [15013.6250427 ],\n",
       "       [ 9959.67979043],\n",
       "       [13817.90617193],\n",
       "       [15275.65915292],\n",
       "       [14742.55527351],\n",
       "       [ 9673.55058961],\n",
       "       [13808.87051296],\n",
       "       [13021.26223914],\n",
       "       [12194.4994431 ],\n",
       "       [12620.681358  ],\n",
       "       [14909.71496451],\n",
       "       [14878.09015811],\n",
       "       [14878.09015811],\n",
       "       [12161.36869353],\n",
       "       [13718.51392323],\n",
       "       [15676.24003406],\n",
       "       [10617.7769523 ],\n",
       "       [11247.26119409],\n",
       "       [12191.48755678],\n",
       "       [12212.57076105],\n",
       "       [15540.70514946],\n",
       "       [16402.10463823],\n",
       "       [11619.22915515],\n",
       "       [13751.64467279],\n",
       "       [11733.68083547],\n",
       "       [14049.82141891],\n",
       "       [15997.0059276 ],\n",
       "       [10245.80899124],\n",
       "       [10303.0348314 ],\n",
       "       [12391.77799735],\n",
       "       [14652.19868378],\n",
       "       [13164.32683954],\n",
       "       [16468.36613737],\n",
       "       [ 9983.77488102],\n",
       "       [14137.16612231],\n",
       "       [10372.30821686],\n",
       "       [13078.4880793 ],\n",
       "       [14646.17491113],\n",
       "       [10961.13199328],\n",
       "       [14977.48240681],\n",
       "       [14878.09015811],\n",
       "       [11018.35783344],\n",
       "       [12077.03587645],\n",
       "       [10495.79555616],\n",
       "       [13022.7681823 ],\n",
       "       [13718.51392323],\n",
       "       [11190.03535393],\n",
       "       [12449.00383751],\n",
       "       [12391.77799735],\n",
       "       [11819.51959572],\n",
       "       [12875.18575241],\n",
       "       [14308.8436428 ],\n",
       "       [11399.36145347],\n",
       "       [13021.26223914],\n",
       "       [13135.71391946],\n",
       "       [12061.97644483],\n",
       "       [14411.24777783],\n",
       "       [14966.94080467],\n",
       "       [10446.09943181],\n",
       "       [ 8958.22758758],\n",
       "       [12161.36869353],\n",
       "       [14223.00488256],\n",
       "       [13278.77851987],\n",
       "       [12019.81003629],\n",
       "       [12019.81003629],\n",
       "       [13650.74648093],\n",
       "       [15917.19094001],\n",
       "       [12706.52011824],\n",
       "       [11819.51959572],\n",
       "       [13718.51392323],\n",
       "       [14149.21366761],\n",
       "       [13417.32529079],\n",
       "       [14082.95216847],\n",
       "       [11418.93871458],\n",
       "       [14251.61780264],\n",
       "       [14280.23072272],\n",
       "       [13658.27619674],\n",
       "       [14381.12891459],\n",
       "       [17097.85037916],\n",
       "       [12477.61675759],\n",
       "       [10360.26067157],\n",
       "       [11447.55163466],\n",
       "       [12134.26171661],\n",
       "       [12220.10047686],\n",
       "       [11790.90667564],\n",
       "       [14260.65346161],\n",
       "       [16254.52220834],\n",
       "       [14613.04416156],\n",
       "       [12992.64931906],\n",
       "       [11447.55163466],\n",
       "       [14260.65346161],\n",
       "       [12061.97644483],\n",
       "       [10917.45964157],\n",
       "       [11647.84207523],\n",
       "       [10675.00279246],\n",
       "       [15796.71548703],\n",
       "       [10706.62759887],\n",
       "       [14778.6979094 ],\n",
       "       [13950.4291702 ],\n",
       "       [11647.84207523],\n",
       "       [12191.48755678],\n",
       "       [14260.65346161],\n",
       "       [13055.89893187],\n",
       "       [11200.57695606],\n",
       "       [11333.09995433],\n",
       "       [10670.48496298],\n",
       "       [11104.19659368],\n",
       "       [14509.13408337],\n",
       "       [12849.58471865],\n",
       "       [10339.1774673 ],\n",
       "       [13650.74648093],\n",
       "       [11390.3257945 ],\n",
       "       [12483.64053024],\n",
       "       [16733.41213391],\n",
       "       [10760.84155271],\n",
       "       [13879.64984158],\n",
       "       [13507.68188052],\n",
       "       [11101.18470736],\n",
       "       [16468.36613737],\n",
       "       [12423.40280375],\n",
       "       [12634.23484646],\n",
       "       [12754.71029943],\n",
       "       [13078.4880793 ],\n",
       "       [13078.4880793 ],\n",
       "       [12625.19918748],\n",
       "       [12105.64879653],\n",
       "       [13994.10152191],\n",
       "       [10818.06739287],\n",
       "       [16335.84313909],\n",
       "       [11562.00331499],\n",
       "       [12061.97644483],\n",
       "       [13236.61211133],\n",
       "       [13908.26276166],\n",
       "       [10315.0823767 ],\n",
       "       [10560.55111214],\n",
       "       [11876.74543588],\n",
       "       [ 9788.00226994],\n",
       "       [13765.19816125],\n",
       "       [12820.97179857],\n",
       "       [13021.26223914],\n",
       "       [14579.91341199],\n",
       "       [12905.30461565],\n",
       "       [13917.29842063],\n",
       "       [13336.00436003],\n",
       "       [10360.26067157],\n",
       "       [12763.74595841],\n",
       "       [10217.19607116],\n",
       "       [17462.28862441],\n",
       "       [12757.72218576],\n",
       "       [14022.71444199],\n",
       "       [10405.43896643],\n",
       "       [10531.93819206],\n",
       "       [15495.5268546 ],\n",
       "       [13751.64467279],\n",
       "       [11730.66894915],\n",
       "       [12248.71339694],\n",
       "       [14852.48912435],\n",
       "       [13364.61728011],\n",
       "       [12790.85293532],\n",
       "       [11881.26326537],\n",
       "       [11134.31545693],\n",
       "       [13628.1573335 ],\n",
       "       [11549.95576969],\n",
       "       [12763.74595841],\n",
       "       [14709.42452394],\n",
       "       [14878.09015811],\n",
       "       [14712.43641027],\n",
       "       [13507.68188052],\n",
       "       [10107.26222032],\n",
       "       [13650.74648093],\n",
       "       [11580.07463293],\n",
       "       [14944.35165724],\n",
       "       [16549.68706812],\n",
       "       [ 9759.38934986],\n",
       "       [13477.56301728],\n",
       "       [12784.82916268],\n",
       "       [11134.31545693],\n",
       "       [12677.90719816],\n",
       "       [16468.36613737],\n",
       "       [16655.10308948],\n",
       "       [13838.9893762 ],\n",
       "       [12453.521667  ],\n",
       "       [13917.29842063],\n",
       "       [12077.03587645],\n",
       "       [10446.09943181],\n",
       "       [12161.36869353],\n",
       "       [19615.78734632],\n",
       "       [13221.55267971],\n",
       "       [10789.45447279],\n",
       "       [11664.40745001],\n",
       "       [12875.18575241],\n",
       "       [14194.39196248],\n",
       "       [15195.84416532],\n",
       "       [15076.87465551],\n",
       "       [11369.24259023],\n",
       "       [13507.68188052],\n",
       "       [11531.88445174],\n",
       "       [12105.64879653],\n",
       "       [13983.55991977],\n",
       "       [14909.71496451],\n",
       "       [16170.18939126],\n",
       "       [10360.26067157],\n",
       "       [10675.00279246],\n",
       "       [13450.45604036],\n",
       "       [13135.71391946],\n",
       "       [11190.03535393],\n",
       "       [15507.5743999 ],\n",
       "       [12754.71029943],\n",
       "       [ 9559.09890929],\n",
       "       [14953.38731621],\n",
       "       [17859.85761922],\n",
       "       [11101.18470736],\n",
       "       [13507.68188052],\n",
       "       [14823.87620427],\n",
       "       [12992.64931906],\n",
       "       [12477.61675759],\n",
       "       [13122.160431  ],\n",
       "       [10827.10305184],\n",
       "       [13477.56301728],\n",
       "       [14679.3056607 ],\n",
       "       [11333.09995433],\n",
       "       [11991.19711621],\n",
       "       [10703.61571254],\n",
       "       [11134.31545693],\n",
       "       [12823.98368489],\n",
       "       [11819.51959572],\n",
       "       [10769.87721168],\n",
       "       [ 9908.47772291],\n",
       "       [12757.72218576],\n",
       "       [13421.84312028],\n",
       "       [11562.00331499],\n",
       "       [12334.55215718],\n",
       "       [11664.40745001],\n",
       "       [11339.12372698],\n",
       "       [12964.03639898],\n",
       "       [ 9816.61519002],\n",
       "       [14149.21366761],\n",
       "       [14823.87620427],\n",
       "       [12105.64879653],\n",
       "       [11962.58419613],\n",
       "       [11848.1325158 ],\n",
       "       [14381.12891459],\n",
       "       [13650.74648093],\n",
       "       [13965.48860182],\n",
       "       [14566.35992353],\n",
       "       [12658.32993705],\n",
       "       [12327.02244137],\n",
       "       [14108.55320223],\n",
       "       [15573.83589903],\n",
       "       [13748.63278647],\n",
       "       [12105.64879653],\n",
       "       [14938.32788459],\n",
       "       [13628.1573335 ],\n",
       "       [14149.21366761],\n",
       "       [13598.03847025],\n",
       "       [12992.64931906],\n",
       "       [15653.65088663],\n",
       "       [ 9988.29271051],\n",
       "       [14738.03744402],\n",
       "       [11562.00331499],\n",
       "       [15474.44365033],\n",
       "       [12563.45551784],\n",
       "       [13536.2948006 ],\n",
       "       [12875.18575241],\n",
       "       [13598.03847025],\n",
       "       [12965.54234214],\n",
       "       [14682.31754702],\n",
       "       [12992.64931906],\n",
       "       [14594.97284362],\n",
       "       [11549.95576969],\n",
       "       [11233.70770563],\n",
       "       [12019.81003629],\n",
       "       [11676.45499531],\n",
       "       [13486.59867625],\n",
       "       [10140.39296989],\n",
       "       [13793.81108134],\n",
       "       [12293.89169181],\n",
       "       [11821.02553888],\n",
       "       [12363.16507727],\n",
       "       [10531.93819206],\n",
       "       [11037.93509455],\n",
       "       [10194.60692373],\n",
       "       [15405.17026487],\n",
       "       [11104.19659368],\n",
       "       [13585.99092496],\n",
       "       [14140.17800864],\n",
       "       [12784.82916268],\n",
       "       [14194.39196248],\n",
       "       [13536.2948006 ],\n",
       "       [10013.89374427],\n",
       "       [13817.90617193],\n",
       "       [11941.50099186],\n",
       "       [10637.35421341],\n",
       "       [13959.46482918],\n",
       "       [13078.4880793 ],\n",
       "       [10703.61571254],\n",
       "       [10388.87359165],\n",
       "       [11104.19659368],\n",
       "       [12260.76094224],\n",
       "       [12823.98368489],\n",
       "       [10074.13147075],\n",
       "       [15281.68292557],\n",
       "       [12691.46068662],\n",
       "       [10417.48651173],\n",
       "       [11188.52941077],\n",
       "       [13364.61728011],\n",
       "       [10474.71235189],\n",
       "       [12592.06843792],\n",
       "       [14652.19868378],\n",
       "       [11390.3257945 ],\n",
       "       [11565.01520131],\n",
       "       [13086.01779511],\n",
       "       [11670.43122266],\n",
       "       [12790.85293532],\n",
       "       [10531.93819206],\n",
       "       [12019.81003629],\n",
       "       [13164.32683954],\n",
       "       [15706.3588973 ],\n",
       "       [15275.65915292],\n",
       "       [14165.77904239],\n",
       "       [13287.81417884],\n",
       "       [13078.4880793 ],\n",
       "       [14079.94028215],\n",
       "       [16468.36613737],\n",
       "       [15110.00540508],\n",
       "       [13354.07567798],\n",
       "       [13450.45604036],\n",
       "       [12162.8746367 ],\n",
       "       [12092.09530807],\n",
       "       [13336.00436003],\n",
       "       [14823.87620427],\n",
       "       [14082.95216847],\n",
       "       [10331.64775149],\n",
       "       [11218.64827401],\n",
       "       [11218.64827401],\n",
       "       [14537.74700345],\n",
       "       [14509.13408337],\n",
       "       [12506.22967767],\n",
       "       [16402.10463823],\n",
       "       [11619.22915515],\n",
       "       [14909.71496451],\n",
       "       [10041.00072118],\n",
       "       [16225.90928826],\n",
       "       [11333.09995433],\n",
       "       [14079.94028215],\n",
       "       [10796.9841886 ],\n",
       "       [12845.06688916],\n",
       "       [13278.77851987],\n",
       "       [12506.22967767],\n",
       "       [12964.03639898],\n",
       "       [13822.42400142],\n",
       "       [14613.04416156],\n",
       "       [13049.87515922],\n",
       "       [10345.20123994],\n",
       "       [ 9873.84103018],\n",
       "       [ 9301.58262855],\n",
       "       [12248.71339694],\n",
       "       [15164.21935892],\n",
       "       [12935.42347889],\n",
       "       [11489.7180432 ],\n",
       "       [11465.62295261],\n",
       "       [16225.90928826],\n",
       "       [17694.20387138],\n",
       "       [13965.48860182],\n",
       "       [13135.71391946],\n",
       "       [15308.78990249],\n",
       "       [14909.71496451],\n",
       "       [12792.35887849],\n",
       "       [12277.32631702]])"
      ]
     },
     "execution_count": 27,
     "metadata": {},
     "output_type": "execute_result"
    }
   ],
   "source": [
    "y_predicted"
   ]
  },
  {
   "cell_type": "markdown",
   "id": "35e26f22",
   "metadata": {},
   "source": [
    "There are some values that are close and some that are not. In terms of predicting insurance cost, this would not be a relaible model to use. "
   ]
  },
  {
   "cell_type": "code",
   "execution_count": 28,
   "id": "5eddace3",
   "metadata": {},
   "outputs": [
    {
     "data": {
      "text/html": [
       "<div>\n",
       "<style scoped>\n",
       "    .dataframe tbody tr th:only-of-type {\n",
       "        vertical-align: middle;\n",
       "    }\n",
       "\n",
       "    .dataframe tbody tr th {\n",
       "        vertical-align: top;\n",
       "    }\n",
       "\n",
       "    .dataframe thead th {\n",
       "        text-align: right;\n",
       "    }\n",
       "</style>\n",
       "<table border=\"1\" class=\"dataframe\">\n",
       "  <thead>\n",
       "    <tr style=\"text-align: right;\">\n",
       "      <th></th>\n",
       "      <th>Actual</th>\n",
       "      <th>Predicted</th>\n",
       "    </tr>\n",
       "  </thead>\n",
       "  <tbody>\n",
       "    <tr>\n",
       "      <th>0</th>\n",
       "      <td>1633.96180</td>\n",
       "      <td>15772.620396</td>\n",
       "    </tr>\n",
       "    <tr>\n",
       "      <th>1</th>\n",
       "      <td>8547.69130</td>\n",
       "      <td>12625.199187</td>\n",
       "    </tr>\n",
       "    <tr>\n",
       "      <th>2</th>\n",
       "      <td>9290.13950</td>\n",
       "      <td>13221.552680</td>\n",
       "    </tr>\n",
       "    <tr>\n",
       "      <th>3</th>\n",
       "      <td>32548.34050</td>\n",
       "      <td>12890.245184</td>\n",
       "    </tr>\n",
       "    <tr>\n",
       "      <th>4</th>\n",
       "      <td>9644.25250</td>\n",
       "      <td>9215.743868</td>\n",
       "    </tr>\n",
       "    <tr>\n",
       "      <th>5</th>\n",
       "      <td>2680.94930</td>\n",
       "      <td>9101.292188</td>\n",
       "    </tr>\n",
       "    <tr>\n",
       "      <th>6</th>\n",
       "      <td>2198.18985</td>\n",
       "      <td>11705.067915</td>\n",
       "    </tr>\n",
       "    <tr>\n",
       "      <th>7</th>\n",
       "      <td>1241.56500</td>\n",
       "      <td>9742.823975</td>\n",
       "    </tr>\n",
       "    <tr>\n",
       "      <th>8</th>\n",
       "      <td>2710.82855</td>\n",
       "      <td>11533.390395</td>\n",
       "    </tr>\n",
       "    <tr>\n",
       "      <th>9</th>\n",
       "      <td>12235.83920</td>\n",
       "      <td>14766.650364</td>\n",
       "    </tr>\n",
       "    <tr>\n",
       "      <th>10</th>\n",
       "      <td>8280.62270</td>\n",
       "      <td>13155.291181</td>\n",
       "    </tr>\n",
       "    <tr>\n",
       "      <th>11</th>\n",
       "      <td>17043.34140</td>\n",
       "      <td>11929.453447</td>\n",
       "    </tr>\n",
       "    <tr>\n",
       "      <th>12</th>\n",
       "      <td>13974.45555</td>\n",
       "      <td>13250.165600</td>\n",
       "    </tr>\n",
       "    <tr>\n",
       "      <th>13</th>\n",
       "      <td>8219.20390</td>\n",
       "      <td>12757.722186</td>\n",
       "    </tr>\n",
       "    <tr>\n",
       "      <th>14</th>\n",
       "      <td>5472.44900</td>\n",
       "      <td>11580.074633</td>\n",
       "    </tr>\n",
       "    <tr>\n",
       "      <th>15</th>\n",
       "      <td>2438.05520</td>\n",
       "      <td>18953.172355</td>\n",
       "    </tr>\n",
       "    <tr>\n",
       "      <th>16</th>\n",
       "      <td>5267.81815</td>\n",
       "      <td>11876.745436</td>\n",
       "    </tr>\n",
       "    <tr>\n",
       "      <th>17</th>\n",
       "      <td>3490.54910</td>\n",
       "      <td>13564.907721</td>\n",
       "    </tr>\n",
       "    <tr>\n",
       "      <th>18</th>\n",
       "      <td>6640.54485</td>\n",
       "      <td>8843.775907</td>\n",
       "    </tr>\n",
       "    <tr>\n",
       "      <th>19</th>\n",
       "      <td>14692.66935</td>\n",
       "      <td>13707.972321</td>\n",
       "    </tr>\n",
       "    <tr>\n",
       "      <th>20</th>\n",
       "      <td>1622.18850</td>\n",
       "      <td>13221.552680</td>\n",
       "    </tr>\n",
       "    <tr>\n",
       "      <th>21</th>\n",
       "      <td>13224.69300</td>\n",
       "      <td>12423.402804</td>\n",
       "    </tr>\n",
       "    <tr>\n",
       "      <th>22</th>\n",
       "      <td>1256.29900</td>\n",
       "      <td>12935.423479</td>\n",
       "    </tr>\n",
       "    <tr>\n",
       "      <th>23</th>\n",
       "      <td>2643.26850</td>\n",
       "      <td>13221.552680</td>\n",
       "    </tr>\n",
       "    <tr>\n",
       "      <th>24</th>\n",
       "      <td>1674.63230</td>\n",
       "      <td>13950.429170</td>\n",
       "    </tr>\n",
       "    <tr>\n",
       "      <th>25</th>\n",
       "      <td>4667.60765</td>\n",
       "      <td>15024.166645</td>\n",
       "    </tr>\n",
       "    <tr>\n",
       "      <th>26</th>\n",
       "      <td>3732.62510</td>\n",
       "      <td>8986.840508</td>\n",
       "    </tr>\n",
       "    <tr>\n",
       "      <th>27</th>\n",
       "      <td>11552.90400</td>\n",
       "      <td>13387.206428</td>\n",
       "    </tr>\n",
       "    <tr>\n",
       "      <th>28</th>\n",
       "      <td>3756.62160</td>\n",
       "      <td>11531.884452</td>\n",
       "    </tr>\n",
       "    <tr>\n",
       "      <th>29</th>\n",
       "      <td>37465.34375</td>\n",
       "      <td>14509.134083</td>\n",
       "    </tr>\n",
       "  </tbody>\n",
       "</table>\n",
       "</div>"
      ],
      "text/plain": [
       "         Actual     Predicted\n",
       "0    1633.96180  15772.620396\n",
       "1    8547.69130  12625.199187\n",
       "2    9290.13950  13221.552680\n",
       "3   32548.34050  12890.245184\n",
       "4    9644.25250   9215.743868\n",
       "5    2680.94930   9101.292188\n",
       "6    2198.18985  11705.067915\n",
       "7    1241.56500   9742.823975\n",
       "8    2710.82855  11533.390395\n",
       "9   12235.83920  14766.650364\n",
       "10   8280.62270  13155.291181\n",
       "11  17043.34140  11929.453447\n",
       "12  13974.45555  13250.165600\n",
       "13   8219.20390  12757.722186\n",
       "14   5472.44900  11580.074633\n",
       "15   2438.05520  18953.172355\n",
       "16   5267.81815  11876.745436\n",
       "17   3490.54910  13564.907721\n",
       "18   6640.54485   8843.775907\n",
       "19  14692.66935  13707.972321\n",
       "20   1622.18850  13221.552680\n",
       "21  13224.69300  12423.402804\n",
       "22   1256.29900  12935.423479\n",
       "23   2643.26850  13221.552680\n",
       "24   1674.63230  13950.429170\n",
       "25   4667.60765  15024.166645\n",
       "26   3732.62510   8986.840508\n",
       "27  11552.90400  13387.206428\n",
       "28   3756.62160  11531.884452\n",
       "29  37465.34375  14509.134083"
      ]
     },
     "execution_count": 28,
     "metadata": {},
     "output_type": "execute_result"
    }
   ],
   "source": [
    "# Create a dataframe comparing the actual and predicted values of y.\n",
    "\n",
    "data = pd.DataFrame({'Actual': y_test.flatten(), 'Predicted': y_predicted.flatten()})\n",
    "data.head(30)"
   ]
  },
  {
   "cell_type": "code",
   "execution_count": 29,
   "id": "18010b72",
   "metadata": {},
   "outputs": [],
   "source": [
    "# Predict.\n",
    "\n",
    "y_predicted_train = regression.predict(X_train) # This is predicting X_train!"
   ]
  },
  {
   "cell_type": "code",
   "execution_count": 30,
   "id": "0f393a74",
   "metadata": {},
   "outputs": [],
   "source": [
    "rmse = mean_squared_error(y_train, y_predicted_train)\n",
    "r2 = r2_score(y_train, y_predicted_train)"
   ]
  },
  {
   "cell_type": "code",
   "execution_count": 31,
   "id": "62ffd165",
   "metadata": {},
   "outputs": [
    {
     "name": "stdout",
     "output_type": "stream",
     "text": [
      "Slope: [[301.18863244]]\n",
      "Mean squared error:  135599557.42526153\n",
      "R2 score:  0.02444033897433817\n"
     ]
    }
   ],
   "source": [
    "print('Slope:' ,regression.coef_)\n",
    "print('Mean squared error: ', rmse)\n",
    "print('R2 score: ', r2)"
   ]
  },
  {
   "cell_type": "code",
   "execution_count": 34,
   "id": "fad550e7",
   "metadata": {},
   "outputs": [
    {
     "data": {
      "image/png": "[encoded data removed]",
      "text/plain": [
       "<Figure size 640x480 with 1 Axes>"
      ]
     },
     "metadata": {},
     "output_type": "display_data"
    }
   ],
   "source": [
    "# Visualizing the training set results.\n",
    "\n",
    "plot_test = plt\n",
    "plot_test.scatter(X_train, y_train, color='green', s = 15)\n",
    "plot_test.plot(X_train, y_predicted_train, color='red', linewidth =3)\n",
    "plot_test.title('BMI and Insurance Cost (Train set)')\n",
    "plot_test.xlabel('BMI')\n",
    "plot_test.ylabel('Annual_insurance_cost')\n",
    "plot_test.show()"
   ]
  },
  {
   "cell_type": "markdown",
   "id": "fb3d1d91",
   "metadata": {},
   "source": [
    "The line fit is better in this predictive model, but it is still not up to standards. The error confidence is high."
   ]
  },
  {
   "cell_type": "markdown",
   "id": "72aaeb91",
   "metadata": {},
   "source": [
    "Hypothesis: If the user has a high BMI score then they have a high annual insurance cost"
   ]
  },
  {
   "cell_type": "markdown",
   "id": "9af4c584",
   "metadata": {},
   "source": [
    "I believe that there is bias in the data collect. When inspecting, there are evenly distributed values showing the lack of randomness contained within the data. \n",
    "This is a fiction data set and it is clear that it does not represent a real population"
   ]
  },
  {
   "cell_type": "markdown",
   "id": "be268871",
   "metadata": {},
   "source": [
    "# Age and Insurance Cost"
   ]
  },
  {
   "cell_type": "code",
   "execution_count": 79,
   "id": "1bdb0e1a",
   "metadata": {},
   "outputs": [],
   "source": [
    "#reshape the variables needed into numpy and put them into separate objects\n",
    "\n",
    "X = df['age'].values.reshape(-1,1)\n",
    "y = df['annual_insurance_cost'].values.reshape(-1,1)"
   ]
  },
  {
   "cell_type": "code",
   "execution_count": 80,
   "id": "5bfa5034",
   "metadata": {},
   "outputs": [
    {
     "data": {
      "text/plain": [
       "array([[19],\n",
       "       [18],\n",
       "       [28],\n",
       "       ...,\n",
       "       [18],\n",
       "       [21],\n",
       "       [61]])"
      ]
     },
     "execution_count": 80,
     "metadata": {},
     "output_type": "execute_result"
    }
   ],
   "source": [
    "X"
   ]
  },
  {
   "cell_type": "code",
   "execution_count": 81,
   "id": "439141ba",
   "metadata": {},
   "outputs": [
    {
     "data": {
      "text/plain": [
       "array([[16884.924 ],\n",
       "       [ 1725.5523],\n",
       "       [ 4449.462 ],\n",
       "       ...,\n",
       "       [ 1629.8335],\n",
       "       [ 2007.945 ],\n",
       "       [29141.3603]])"
      ]
     },
     "execution_count": 81,
     "metadata": {},
     "output_type": "execute_result"
    }
   ],
   "source": [
    "y"
   ]
  },
  {
   "cell_type": "code",
   "execution_count": 82,
   "id": "bedc0329",
   "metadata": {},
   "outputs": [],
   "source": [
    "# Split data into train set and test set\n",
    "\n",
    "X_train, X_test, y_train, y_test = train_test_split(X, y, test_size=0.3, random_state=0)"
   ]
  },
  {
   "cell_type": "code",
   "execution_count": 83,
   "id": "63d42165",
   "metadata": {},
   "outputs": [],
   "source": [
    "#create regression object\n",
    "\n",
    "regression = LinearRegression()"
   ]
  },
  {
   "cell_type": "code",
   "execution_count": 84,
   "id": "2061b8a0",
   "metadata": {},
   "outputs": [
    {
     "data": {
      "text/html": [
       "<style>#sk-container-id-5 {color: black;background-color: white;}#sk-container-id-5 pre{padding: 0;}#sk-container-id-5 div.sk-toggleable {background-color: white;}#sk-container-id-5 label.sk-toggleable__label {cursor: pointer;display: block;width: 100%;margin-bottom: 0;padding: 0.3em;box-sizing: border-box;text-align: center;}#sk-container-id-5 label.sk-toggleable__label-arrow:before {content: \"▸\";float: left;margin-right: 0.25em;color: #696969;}#sk-container-id-5 label.sk-toggleable__label-arrow:hover:before {color: black;}#sk-container-id-5 div.sk-estimator:hover label.sk-toggleable__label-arrow:before {color: black;}#sk-container-id-5 div.sk-toggleable__content {max-height: 0;max-width: 0;overflow: hidden;text-align: left;background-color: #f0f8ff;}#sk-container-id-5 div.sk-toggleable__content pre {margin: 0.2em;color: black;border-radius: 0.25em;background-color: #f0f8ff;}#sk-container-id-5 input.sk-toggleable__control:checked~div.sk-toggleable__content {max-height: 200px;max-width: 100%;overflow: auto;}#sk-container-id-5 input.sk-toggleable__control:checked~label.sk-toggleable__label-arrow:before {content: \"▾\";}#sk-container-id-5 div.sk-estimator input.sk-toggleable__control:checked~label.sk-toggleable__label {background-color: #d4ebff;}#sk-container-id-5 div.sk-label input.sk-toggleable__control:checked~label.sk-toggleable__label {background-color: #d4ebff;}#sk-container-id-5 input.sk-hidden--visually {border: 0;clip: rect(1px 1px 1px 1px);clip: rect(1px, 1px, 1px, 1px);height: 1px;margin: -1px;overflow: hidden;padding: 0;position: absolute;width: 1px;}#sk-container-id-5 div.sk-estimator {font-family: monospace;background-color: #f0f8ff;border: 1px dotted black;border-radius: 0.25em;box-sizing: border-box;margin-bottom: 0.5em;}#sk-container-id-5 div.sk-estimator:hover {background-color: #d4ebff;}#sk-container-id-5 div.sk-parallel-item::after {content: \"\";width: 100%;border-bottom: 1px solid gray;flex-grow: 1;}#sk-container-id-5 div.sk-label:hover label.sk-toggleable__label {background-color: #d4ebff;}#sk-container-id-5 div.sk-serial::before {content: \"\";position: absolute;border-left: 1px solid gray;box-sizing: border-box;top: 0;bottom: 0;left: 50%;z-index: 0;}#sk-container-id-5 div.sk-serial {display: flex;flex-direction: column;align-items: center;background-color: white;padding-right: 0.2em;padding-left: 0.2em;position: relative;}#sk-container-id-5 div.sk-item {position: relative;z-index: 1;}#sk-container-id-5 div.sk-parallel {display: flex;align-items: stretch;justify-content: center;background-color: white;position: relative;}#sk-container-id-5 div.sk-item::before, #sk-container-id-5 div.sk-parallel-item::before {content: \"\";position: absolute;border-left: 1px solid gray;box-sizing: border-box;top: 0;bottom: 0;left: 50%;z-index: -1;}#sk-container-id-5 div.sk-parallel-item {display: flex;flex-direction: column;z-index: 1;position: relative;background-color: white;}#sk-container-id-5 div.sk-parallel-item:first-child::after {align-self: flex-end;width: 50%;}#sk-container-id-5 div.sk-parallel-item:last-child::after {align-self: flex-start;width: 50%;}#sk-container-id-5 div.sk-parallel-item:only-child::after {width: 0;}#sk-container-id-5 div.sk-dashed-wrapped {border: 1px dashed gray;margin: 0 0.4em 0.5em 0.4em;box-sizing: border-box;padding-bottom: 0.4em;background-color: white;}#sk-container-id-5 div.sk-label label {font-family: monospace;font-weight: bold;display: inline-block;line-height: 1.2em;}#sk-container-id-5 div.sk-label-container {text-align: center;}#sk-container-id-5 div.sk-container {/* jupyter's `normalize.less` sets `[hidden] { display: none; }` but bootstrap.min.css set `[hidden] { display: none !important; }` so we also need the `!important` here to be able to override the default hidden behavior on the sphinx rendered scikit-learn.org. See: https://github.com/scikit-learn/scikit-learn/issues/21755 */display: inline-block !important;position: relative;}#sk-container-id-5 div.sk-text-repr-fallback {display: none;}</style><div id=\"sk-container-id-5\" class=\"sk-top-container\"><div class=\"sk-text-repr-fallback\"><pre>LinearRegression()</pre><b>In a Jupyter environment, please rerun this cell to show the HTML representation or trust the notebook. <br />On GitHub, the HTML representation is unable to render, please try loading this page with nbviewer.org.</b></div><div class=\"sk-container\" hidden><div class=\"sk-item\"><div class=\"sk-estimator sk-toggleable\"><input class=\"sk-toggleable__control sk-hidden--visually\" id=\"sk-estimator-id-5\" type=\"checkbox\" checked><label for=\"sk-estimator-id-5\" class=\"sk-toggleable__label sk-toggleable__label-arrow\">LinearRegression</label><div class=\"sk-toggleable__content\"><pre>LinearRegression()</pre></div></div></div></div></div>"
      ],
      "text/plain": [
       "LinearRegression()"
      ]
     },
     "execution_count": 84,
     "metadata": {},
     "output_type": "execute_result"
    }
   ],
   "source": [
    "# fit the regression to the train set\n",
    "\n",
    "regression.fit(X_train, y_train)"
   ]
  },
  {
   "cell_type": "code",
   "execution_count": 85,
   "id": "1b67a479",
   "metadata": {},
   "outputs": [],
   "source": [
    "# predict the values of y using x\n",
    "\n",
    "y_predicted = regression.predict(X_test)"
   ]
  },
  {
   "cell_type": "code",
   "execution_count": 86,
   "id": "32b8358e",
   "metadata": {},
   "outputs": [
    {
     "data": {
      "image/png": "[encoded data removed]",
      "text/plain": [
       "<Figure size 640x480 with 1 Axes>"
      ]
     },
     "metadata": {},
     "output_type": "display_data"
    }
   ],
   "source": [
    "# Create a plot that shows the regression line from the model on the test set.\n",
    "\n",
    "plot_test = plt\n",
    "plot_test.scatter(X_test, y_test, color='gray', s = 15)\n",
    "plot_test.plot(X_test, y_predicted, color='red', linewidth =3)\n",
    "plot_test.title('Age and Annual Insurance Cost (Test set)')\n",
    "plot_test.xlabel('age')\n",
    "plot_test.ylabel('Annual_insurance_cost')\n",
    "plot_test.show()"
   ]
  },
  {
   "cell_type": "markdown",
   "id": "93183d15",
   "metadata": {},
   "source": [
    "Trend shows that as the age of the policy holder increases, then so does cost"
   ]
  },
  {
   "cell_type": "code",
   "execution_count": 87,
   "id": "cf86fc29",
   "metadata": {},
   "outputs": [],
   "source": [
    "# Create objects that contain the model summary statistics.\n",
    "\n",
    "rmse = mean_squared_error(y_test, y_predicted) # This is the mean squared error\n",
    "r2 = r2_score(y_test, y_predicted) # This is the R2 score. "
   ]
  },
  {
   "cell_type": "code",
   "execution_count": 88,
   "id": "16881dc2",
   "metadata": {},
   "outputs": [
    {
     "name": "stdout",
     "output_type": "stream",
     "text": [
      "Slope: [[233.02389044]]\n",
      "Mean squared error:  146173303.34737504\n",
      "R2 score:  0.10739068301367427\n"
     ]
    }
   ],
   "source": [
    "# Print the model summary statistics. Evaluate the performance of the model.\n",
    "\n",
    "print('Slope:' ,regression.coef_)\n",
    "print('Mean squared error: ', rmse)\n",
    "print('R2 score: ', r2)"
   ]
  },
  {
   "cell_type": "code",
   "execution_count": 89,
   "id": "d8b9cec5",
   "metadata": {},
   "outputs": [
    {
     "data": {
      "text/html": [
       "<div>\n",
       "<style scoped>\n",
       "    .dataframe tbody tr th:only-of-type {\n",
       "        vertical-align: middle;\n",
       "    }\n",
       "\n",
       "    .dataframe tbody tr th {\n",
       "        vertical-align: top;\n",
       "    }\n",
       "\n",
       "    .dataframe thead th {\n",
       "        text-align: right;\n",
       "    }\n",
       "</style>\n",
       "<table border=\"1\" class=\"dataframe\">\n",
       "  <thead>\n",
       "    <tr style=\"text-align: right;\">\n",
       "      <th></th>\n",
       "      <th>Actual</th>\n",
       "      <th>Predicted</th>\n",
       "    </tr>\n",
       "  </thead>\n",
       "  <tbody>\n",
       "    <tr>\n",
       "      <th>0</th>\n",
       "      <td>1633.96180</td>\n",
       "      <td>8086.242979</td>\n",
       "    </tr>\n",
       "    <tr>\n",
       "      <th>1</th>\n",
       "      <td>8547.69130</td>\n",
       "      <td>14843.935802</td>\n",
       "    </tr>\n",
       "    <tr>\n",
       "      <th>2</th>\n",
       "      <td>9290.13950</td>\n",
       "      <td>15309.983583</td>\n",
       "    </tr>\n",
       "    <tr>\n",
       "      <th>3</th>\n",
       "      <td>32548.34050</td>\n",
       "      <td>8319.266870</td>\n",
       "    </tr>\n",
       "    <tr>\n",
       "      <th>4</th>\n",
       "      <td>9644.25250</td>\n",
       "      <td>15776.031364</td>\n",
       "    </tr>\n",
       "    <tr>\n",
       "      <th>5</th>\n",
       "      <td>2680.94930</td>\n",
       "      <td>9950.434103</td>\n",
       "    </tr>\n",
       "    <tr>\n",
       "      <th>6</th>\n",
       "      <td>2198.18985</td>\n",
       "      <td>8086.242979</td>\n",
       "    </tr>\n",
       "    <tr>\n",
       "      <th>7</th>\n",
       "      <td>1241.56500</td>\n",
       "      <td>8319.266870</td>\n",
       "    </tr>\n",
       "    <tr>\n",
       "      <th>8</th>\n",
       "      <td>2710.82855</td>\n",
       "      <td>8319.266870</td>\n",
       "    </tr>\n",
       "    <tr>\n",
       "      <th>9</th>\n",
       "      <td>12235.83920</td>\n",
       "      <td>17407.198597</td>\n",
       "    </tr>\n",
       "    <tr>\n",
       "      <th>10</th>\n",
       "      <td>8280.62270</td>\n",
       "      <td>15076.959693</td>\n",
       "    </tr>\n",
       "    <tr>\n",
       "      <th>11</th>\n",
       "      <td>17043.34140</td>\n",
       "      <td>9950.434103</td>\n",
       "    </tr>\n",
       "    <tr>\n",
       "      <th>12</th>\n",
       "      <td>13974.45555</td>\n",
       "      <td>18572.318049</td>\n",
       "    </tr>\n",
       "    <tr>\n",
       "      <th>13</th>\n",
       "      <td>8219.20390</td>\n",
       "      <td>14144.864131</td>\n",
       "    </tr>\n",
       "    <tr>\n",
       "      <th>14</th>\n",
       "      <td>5472.44900</td>\n",
       "      <td>12280.673007</td>\n",
       "    </tr>\n",
       "    <tr>\n",
       "      <th>15</th>\n",
       "      <td>2438.05520</td>\n",
       "      <td>9251.362432</td>\n",
       "    </tr>\n",
       "    <tr>\n",
       "      <th>16</th>\n",
       "      <td>5267.81815</td>\n",
       "      <td>12280.673007</td>\n",
       "    </tr>\n",
       "    <tr>\n",
       "      <th>17</th>\n",
       "      <td>3490.54910</td>\n",
       "      <td>9950.434103</td>\n",
       "    </tr>\n",
       "    <tr>\n",
       "      <th>18</th>\n",
       "      <td>6640.54485</td>\n",
       "      <td>12746.720788</td>\n",
       "    </tr>\n",
       "    <tr>\n",
       "      <th>19</th>\n",
       "      <td>14692.66935</td>\n",
       "      <td>18805.341939</td>\n",
       "    </tr>\n",
       "    <tr>\n",
       "      <th>20</th>\n",
       "      <td>1622.18850</td>\n",
       "      <td>8086.242979</td>\n",
       "    </tr>\n",
       "    <tr>\n",
       "      <th>21</th>\n",
       "      <td>13224.69300</td>\n",
       "      <td>17873.246378</td>\n",
       "    </tr>\n",
       "    <tr>\n",
       "      <th>22</th>\n",
       "      <td>1256.29900</td>\n",
       "      <td>8319.266870</td>\n",
       "    </tr>\n",
       "    <tr>\n",
       "      <th>23</th>\n",
       "      <td>2643.26850</td>\n",
       "      <td>9018.338541</td>\n",
       "    </tr>\n",
       "    <tr>\n",
       "      <th>24</th>\n",
       "      <td>1674.63230</td>\n",
       "      <td>9018.338541</td>\n",
       "    </tr>\n",
       "    <tr>\n",
       "      <th>25</th>\n",
       "      <td>4667.60765</td>\n",
       "      <td>11348.577446</td>\n",
       "    </tr>\n",
       "    <tr>\n",
       "      <th>26</th>\n",
       "      <td>3732.62510</td>\n",
       "      <td>10416.481884</td>\n",
       "    </tr>\n",
       "    <tr>\n",
       "      <th>27</th>\n",
       "      <td>11552.90400</td>\n",
       "      <td>15309.983583</td>\n",
       "    </tr>\n",
       "    <tr>\n",
       "      <th>28</th>\n",
       "      <td>3756.62160</td>\n",
       "      <td>11115.553555</td>\n",
       "    </tr>\n",
       "    <tr>\n",
       "      <th>29</th>\n",
       "      <td>37465.34375</td>\n",
       "      <td>8552.290760</td>\n",
       "    </tr>\n",
       "  </tbody>\n",
       "</table>\n",
       "</div>"
      ],
      "text/plain": [
       "         Actual     Predicted\n",
       "0    1633.96180   8086.242979\n",
       "1    8547.69130  14843.935802\n",
       "2    9290.13950  15309.983583\n",
       "3   32548.34050   8319.266870\n",
       "4    9644.25250  15776.031364\n",
       "5    2680.94930   9950.434103\n",
       "6    2198.18985   8086.242979\n",
       "7    1241.56500   8319.266870\n",
       "8    2710.82855   8319.266870\n",
       "9   12235.83920  17407.198597\n",
       "10   8280.62270  15076.959693\n",
       "11  17043.34140   9950.434103\n",
       "12  13974.45555  18572.318049\n",
       "13   8219.20390  14144.864131\n",
       "14   5472.44900  12280.673007\n",
       "15   2438.05520   9251.362432\n",
       "16   5267.81815  12280.673007\n",
       "17   3490.54910   9950.434103\n",
       "18   6640.54485  12746.720788\n",
       "19  14692.66935  18805.341939\n",
       "20   1622.18850   8086.242979\n",
       "21  13224.69300  17873.246378\n",
       "22   1256.29900   8319.266870\n",
       "23   2643.26850   9018.338541\n",
       "24   1674.63230   9018.338541\n",
       "25   4667.60765  11348.577446\n",
       "26   3732.62510  10416.481884\n",
       "27  11552.90400  15309.983583\n",
       "28   3756.62160  11115.553555\n",
       "29  37465.34375   8552.290760"
      ]
     },
     "execution_count": 89,
     "metadata": {},
     "output_type": "execute_result"
    }
   ],
   "source": [
    "# Create a dataframe comparing the actual and predicted values of y.\n",
    "\n",
    "data = pd.DataFrame({'Actual': y_test.flatten(), 'Predicted': y_predicted.flatten()})\n",
    "data.head(30)"
   ]
  },
  {
   "cell_type": "code",
   "execution_count": 90,
   "id": "3a9dcf90",
   "metadata": {},
   "outputs": [],
   "source": [
    "# Predict.\n",
    "\n",
    "y_predicted_train = regression.predict(X_train) # This is predicting X_train!"
   ]
  },
  {
   "cell_type": "code",
   "execution_count": 91,
   "id": "730b9684",
   "metadata": {},
   "outputs": [],
   "source": [
    "rmse = mean_squared_error(y_train, y_predicted_train)\n",
    "r2 = r2_score(y_train, y_predicted_train)"
   ]
  },
  {
   "cell_type": "code",
   "execution_count": 92,
   "id": "121b8273",
   "metadata": {},
   "outputs": [
    {
     "name": "stdout",
     "output_type": "stream",
     "text": [
      "Slope: [[233.02389044]]\n",
      "Mean squared error:  128318059.75747488\n",
      "R2 score:  0.07682646420531714\n"
     ]
    }
   ],
   "source": [
    "print('Slope:' ,regression.coef_)\n",
    "print('Mean squared error: ', rmse)\n",
    "print('R2 score: ', r2)"
   ]
  },
  {
   "cell_type": "code",
   "execution_count": 93,
   "id": "4e454e0c",
   "metadata": {},
   "outputs": [
    {
     "data": {
      "image/png": "[encoded data removed]",
      "text/plain": [
       "<Figure size 640x480 with 1 Axes>"
      ]
     },
     "metadata": {},
     "output_type": "display_data"
    }
   ],
   "source": [
    "# Visualizing the training set results.\n",
    "\n",
    "plot_test = plt\n",
    "plot_test.scatter(X_train, y_train, color='green', s = 15)\n",
    "plot_test.plot(X_train, y_predicted_train, color='red', linewidth =3)\n",
    "plot_test.title('Age and Insurance Cost (Train set)')\n",
    "plot_test.xlabel('age')\n",
    "plot_test.ylabel('Annual_insurance_cost')\n",
    "plot_test.show()"
   ]
  },
  {
   "cell_type": "markdown",
   "id": "52f22724",
   "metadata": {},
   "source": [
    "Although weak, there is correlation between older age and higher insurance cost"
   ]
  },
  {
   "cell_type": "markdown",
   "id": "d319050b",
   "metadata": {},
   "source": [
    "# Number of Childeren and Insurance Cost"
   ]
  },
  {
   "cell_type": "code",
   "execution_count": 94,
   "id": "05de88d5",
   "metadata": {},
   "outputs": [],
   "source": [
    "#reshape the variables needed into numpy arrays and put them into separate objects\n",
    "\n",
    "X = df['number_of_children'].values.reshape(-1,1)\n",
    "y = df['annual_insurance_cost'].values.reshape(-1,1)"
   ]
  },
  {
   "cell_type": "code",
   "execution_count": 95,
   "id": "6f1a88c4",
   "metadata": {},
   "outputs": [],
   "source": [
    "# Split data into train set and test set\n",
    "\n",
    "X_train, X_test, y_train, y_test = train_test_split(X, y, test_size=0.3, random_state=0)"
   ]
  },
  {
   "cell_type": "code",
   "execution_count": 96,
   "id": "026535b8",
   "metadata": {},
   "outputs": [],
   "source": [
    "#create regression object\n",
    "\n",
    "regression = LinearRegression()"
   ]
  },
  {
   "cell_type": "code",
   "execution_count": 97,
   "id": "1c55b917",
   "metadata": {},
   "outputs": [
    {
     "data": {
      "text/html": [
       "<style>#sk-container-id-6 {color: black;background-color: white;}#sk-container-id-6 pre{padding: 0;}#sk-container-id-6 div.sk-toggleable {background-color: white;}#sk-container-id-6 label.sk-toggleable__label {cursor: pointer;display: block;width: 100%;margin-bottom: 0;padding: 0.3em;box-sizing: border-box;text-align: center;}#sk-container-id-6 label.sk-toggleable__label-arrow:before {content: \"▸\";float: left;margin-right: 0.25em;color: #696969;}#sk-container-id-6 label.sk-toggleable__label-arrow:hover:before {color: black;}#sk-container-id-6 div.sk-estimator:hover label.sk-toggleable__label-arrow:before {color: black;}#sk-container-id-6 div.sk-toggleable__content {max-height: 0;max-width: 0;overflow: hidden;text-align: left;background-color: #f0f8ff;}#sk-container-id-6 div.sk-toggleable__content pre {margin: 0.2em;color: black;border-radius: 0.25em;background-color: #f0f8ff;}#sk-container-id-6 input.sk-toggleable__control:checked~div.sk-toggleable__content {max-height: 200px;max-width: 100%;overflow: auto;}#sk-container-id-6 input.sk-toggleable__control:checked~label.sk-toggleable__label-arrow:before {content: \"▾\";}#sk-container-id-6 div.sk-estimator input.sk-toggleable__control:checked~label.sk-toggleable__label {background-color: #d4ebff;}#sk-container-id-6 div.sk-label input.sk-toggleable__control:checked~label.sk-toggleable__label {background-color: #d4ebff;}#sk-container-id-6 input.sk-hidden--visually {border: 0;clip: rect(1px 1px 1px 1px);clip: rect(1px, 1px, 1px, 1px);height: 1px;margin: -1px;overflow: hidden;padding: 0;position: absolute;width: 1px;}#sk-container-id-6 div.sk-estimator {font-family: monospace;background-color: #f0f8ff;border: 1px dotted black;border-radius: 0.25em;box-sizing: border-box;margin-bottom: 0.5em;}#sk-container-id-6 div.sk-estimator:hover {background-color: #d4ebff;}#sk-container-id-6 div.sk-parallel-item::after {content: \"\";width: 100%;border-bottom: 1px solid gray;flex-grow: 1;}#sk-container-id-6 div.sk-label:hover label.sk-toggleable__label {background-color: #d4ebff;}#sk-container-id-6 div.sk-serial::before {content: \"\";position: absolute;border-left: 1px solid gray;box-sizing: border-box;top: 0;bottom: 0;left: 50%;z-index: 0;}#sk-container-id-6 div.sk-serial {display: flex;flex-direction: column;align-items: center;background-color: white;padding-right: 0.2em;padding-left: 0.2em;position: relative;}#sk-container-id-6 div.sk-item {position: relative;z-index: 1;}#sk-container-id-6 div.sk-parallel {display: flex;align-items: stretch;justify-content: center;background-color: white;position: relative;}#sk-container-id-6 div.sk-item::before, #sk-container-id-6 div.sk-parallel-item::before {content: \"\";position: absolute;border-left: 1px solid gray;box-sizing: border-box;top: 0;bottom: 0;left: 50%;z-index: -1;}#sk-container-id-6 div.sk-parallel-item {display: flex;flex-direction: column;z-index: 1;position: relative;background-color: white;}#sk-container-id-6 div.sk-parallel-item:first-child::after {align-self: flex-end;width: 50%;}#sk-container-id-6 div.sk-parallel-item:last-child::after {align-self: flex-start;width: 50%;}#sk-container-id-6 div.sk-parallel-item:only-child::after {width: 0;}#sk-container-id-6 div.sk-dashed-wrapped {border: 1px dashed gray;margin: 0 0.4em 0.5em 0.4em;box-sizing: border-box;padding-bottom: 0.4em;background-color: white;}#sk-container-id-6 div.sk-label label {font-family: monospace;font-weight: bold;display: inline-block;line-height: 1.2em;}#sk-container-id-6 div.sk-label-container {text-align: center;}#sk-container-id-6 div.sk-container {/* jupyter's `normalize.less` sets `[hidden] { display: none; }` but bootstrap.min.css set `[hidden] { display: none !important; }` so we also need the `!important` here to be able to override the default hidden behavior on the sphinx rendered scikit-learn.org. See: https://github.com/scikit-learn/scikit-learn/issues/21755 */display: inline-block !important;position: relative;}#sk-container-id-6 div.sk-text-repr-fallback {display: none;}</style><div id=\"sk-container-id-6\" class=\"sk-top-container\"><div class=\"sk-text-repr-fallback\"><pre>LinearRegression()</pre><b>In a Jupyter environment, please rerun this cell to show the HTML representation or trust the notebook. <br />On GitHub, the HTML representation is unable to render, please try loading this page with nbviewer.org.</b></div><div class=\"sk-container\" hidden><div class=\"sk-item\"><div class=\"sk-estimator sk-toggleable\"><input class=\"sk-toggleable__control sk-hidden--visually\" id=\"sk-estimator-id-6\" type=\"checkbox\" checked><label for=\"sk-estimator-id-6\" class=\"sk-toggleable__label sk-toggleable__label-arrow\">LinearRegression</label><div class=\"sk-toggleable__content\"><pre>LinearRegression()</pre></div></div></div></div></div>"
      ],
      "text/plain": [
       "LinearRegression()"
      ]
     },
     "execution_count": 97,
     "metadata": {},
     "output_type": "execute_result"
    }
   ],
   "source": [
    "# fit the regression to the train set\n",
    "\n",
    "regression.fit(X_train, y_train)"
   ]
  },
  {
   "cell_type": "code",
   "execution_count": 98,
   "id": "45a7cc19",
   "metadata": {},
   "outputs": [],
   "source": [
    "# predict the values of y using x\n",
    "\n",
    "y_predicted = regression.predict(X_test)"
   ]
  },
  {
   "cell_type": "code",
   "execution_count": 99,
   "id": "c170acd4",
   "metadata": {},
   "outputs": [
    {
     "data": {
      "image/png": "[encoded data removed]",
      "text/plain": [
       "<Figure size 640x480 with 1 Axes>"
      ]
     },
     "metadata": {},
     "output_type": "display_data"
    }
   ],
   "source": [
    "# Create a plot that shows the regression line from the model on the test set.\n",
    "\n",
    "plot_test = plt\n",
    "plot_test.scatter(X_test, y_test, color='gray', s = 15)\n",
    "plot_test.plot(X_test, y_predicted, color='red', linewidth =3)\n",
    "plot_test.title('Number of Children and Annual Insurance Cost (Test set)')\n",
    "plot_test.xlabel('number_of_children')\n",
    "plot_test.ylabel('Annual_insurance_cost')\n",
    "plot_test.show()"
   ]
  },
  {
   "cell_type": "markdown",
   "id": "a1cba457",
   "metadata": {},
   "source": [
    "There is no strong correlation, this may be because there is bias in the data"
   ]
  },
  {
   "cell_type": "code",
   "execution_count": 100,
   "id": "15aed60b",
   "metadata": {},
   "outputs": [],
   "source": [
    "# Create objects that contain the model summary statistics.\n",
    "\n",
    "rmse = mean_squared_error(y_test, y_predicted) # This is the mean squared error\n",
    "r2 = r2_score(y_test, y_predicted) # This is the R2 score. "
   ]
  },
  {
   "cell_type": "code",
   "execution_count": 101,
   "id": "affca923",
   "metadata": {},
   "outputs": [
    {
     "name": "stdout",
     "output_type": "stream",
     "text": [
      "Slope: [[602.07523344]]\n",
      "Mean squared error:  163344176.96116966\n",
      "R2 score:  0.002536503642465826\n"
     ]
    }
   ],
   "source": [
    "# Print the model summary statistics. Evaluate the performance of the model.\n",
    "\n",
    "print('Slope:' ,regression.coef_)\n",
    "print('Mean squared error: ', rmse)\n",
    "print('R2 score: ', r2)"
   ]
  },
  {
   "cell_type": "markdown",
   "id": "fe7591c6",
   "metadata": {},
   "source": [
    "very weak correlation"
   ]
  },
  {
   "cell_type": "code",
   "execution_count": 102,
   "id": "44df7267",
   "metadata": {},
   "outputs": [
    {
     "data": {
      "text/html": [
       "<div>\n",
       "<style scoped>\n",
       "    .dataframe tbody tr th:only-of-type {\n",
       "        vertical-align: middle;\n",
       "    }\n",
       "\n",
       "    .dataframe tbody tr th {\n",
       "        vertical-align: top;\n",
       "    }\n",
       "\n",
       "    .dataframe thead th {\n",
       "        text-align: right;\n",
       "    }\n",
       "</style>\n",
       "<table border=\"1\" class=\"dataframe\">\n",
       "  <thead>\n",
       "    <tr style=\"text-align: right;\">\n",
       "      <th></th>\n",
       "      <th>Actual</th>\n",
       "      <th>Predicted</th>\n",
       "    </tr>\n",
       "  </thead>\n",
       "  <tbody>\n",
       "    <tr>\n",
       "      <th>0</th>\n",
       "      <td>1633.96180</td>\n",
       "      <td>12402.063145</td>\n",
       "    </tr>\n",
       "    <tr>\n",
       "      <th>1</th>\n",
       "      <td>8547.69130</td>\n",
       "      <td>13004.138378</td>\n",
       "    </tr>\n",
       "    <tr>\n",
       "      <th>2</th>\n",
       "      <td>9290.13950</td>\n",
       "      <td>13004.138378</td>\n",
       "    </tr>\n",
       "    <tr>\n",
       "      <th>3</th>\n",
       "      <td>32548.34050</td>\n",
       "      <td>12402.063145</td>\n",
       "    </tr>\n",
       "    <tr>\n",
       "      <th>4</th>\n",
       "      <td>9644.25250</td>\n",
       "      <td>12402.063145</td>\n",
       "    </tr>\n",
       "    <tr>\n",
       "      <th>5</th>\n",
       "      <td>2680.94930</td>\n",
       "      <td>12402.063145</td>\n",
       "    </tr>\n",
       "    <tr>\n",
       "      <th>6</th>\n",
       "      <td>2198.18985</td>\n",
       "      <td>12402.063145</td>\n",
       "    </tr>\n",
       "    <tr>\n",
       "      <th>7</th>\n",
       "      <td>1241.56500</td>\n",
       "      <td>12402.063145</td>\n",
       "    </tr>\n",
       "    <tr>\n",
       "      <th>8</th>\n",
       "      <td>2710.82855</td>\n",
       "      <td>13004.138378</td>\n",
       "    </tr>\n",
       "    <tr>\n",
       "      <th>9</th>\n",
       "      <td>12235.83920</td>\n",
       "      <td>12402.063145</td>\n",
       "    </tr>\n",
       "    <tr>\n",
       "      <th>10</th>\n",
       "      <td>8280.62270</td>\n",
       "      <td>12402.063145</td>\n",
       "    </tr>\n",
       "    <tr>\n",
       "      <th>11</th>\n",
       "      <td>17043.34140</td>\n",
       "      <td>12402.063145</td>\n",
       "    </tr>\n",
       "    <tr>\n",
       "      <th>12</th>\n",
       "      <td>13974.45555</td>\n",
       "      <td>12402.063145</td>\n",
       "    </tr>\n",
       "    <tr>\n",
       "      <th>13</th>\n",
       "      <td>8219.20390</td>\n",
       "      <td>13606.213612</td>\n",
       "    </tr>\n",
       "    <tr>\n",
       "      <th>14</th>\n",
       "      <td>5472.44900</td>\n",
       "      <td>13004.138378</td>\n",
       "    </tr>\n",
       "    <tr>\n",
       "      <th>15</th>\n",
       "      <td>2438.05520</td>\n",
       "      <td>13004.138378</td>\n",
       "    </tr>\n",
       "    <tr>\n",
       "      <th>16</th>\n",
       "      <td>5267.81815</td>\n",
       "      <td>12402.063145</td>\n",
       "    </tr>\n",
       "    <tr>\n",
       "      <th>17</th>\n",
       "      <td>3490.54910</td>\n",
       "      <td>13004.138378</td>\n",
       "    </tr>\n",
       "    <tr>\n",
       "      <th>18</th>\n",
       "      <td>6640.54485</td>\n",
       "      <td>13606.213612</td>\n",
       "    </tr>\n",
       "    <tr>\n",
       "      <th>19</th>\n",
       "      <td>14692.66935</td>\n",
       "      <td>12402.063145</td>\n",
       "    </tr>\n",
       "    <tr>\n",
       "      <th>20</th>\n",
       "      <td>1622.18850</td>\n",
       "      <td>12402.063145</td>\n",
       "    </tr>\n",
       "    <tr>\n",
       "      <th>21</th>\n",
       "      <td>13224.69300</td>\n",
       "      <td>13004.138378</td>\n",
       "    </tr>\n",
       "    <tr>\n",
       "      <th>22</th>\n",
       "      <td>1256.29900</td>\n",
       "      <td>12402.063145</td>\n",
       "    </tr>\n",
       "    <tr>\n",
       "      <th>23</th>\n",
       "      <td>2643.26850</td>\n",
       "      <td>13004.138378</td>\n",
       "    </tr>\n",
       "    <tr>\n",
       "      <th>24</th>\n",
       "      <td>1674.63230</td>\n",
       "      <td>12402.063145</td>\n",
       "    </tr>\n",
       "    <tr>\n",
       "      <th>25</th>\n",
       "      <td>4667.60765</td>\n",
       "      <td>13004.138378</td>\n",
       "    </tr>\n",
       "    <tr>\n",
       "      <th>26</th>\n",
       "      <td>3732.62510</td>\n",
       "      <td>12402.063145</td>\n",
       "    </tr>\n",
       "    <tr>\n",
       "      <th>27</th>\n",
       "      <td>11552.90400</td>\n",
       "      <td>15412.439312</td>\n",
       "    </tr>\n",
       "    <tr>\n",
       "      <th>28</th>\n",
       "      <td>3756.62160</td>\n",
       "      <td>12402.063145</td>\n",
       "    </tr>\n",
       "    <tr>\n",
       "      <th>29</th>\n",
       "      <td>37465.34375</td>\n",
       "      <td>14208.288845</td>\n",
       "    </tr>\n",
       "  </tbody>\n",
       "</table>\n",
       "</div>"
      ],
      "text/plain": [
       "         Actual     Predicted\n",
       "0    1633.96180  12402.063145\n",
       "1    8547.69130  13004.138378\n",
       "2    9290.13950  13004.138378\n",
       "3   32548.34050  12402.063145\n",
       "4    9644.25250  12402.063145\n",
       "5    2680.94930  12402.063145\n",
       "6    2198.18985  12402.063145\n",
       "7    1241.56500  12402.063145\n",
       "8    2710.82855  13004.138378\n",
       "9   12235.83920  12402.063145\n",
       "10   8280.62270  12402.063145\n",
       "11  17043.34140  12402.063145\n",
       "12  13974.45555  12402.063145\n",
       "13   8219.20390  13606.213612\n",
       "14   5472.44900  13004.138378\n",
       "15   2438.05520  13004.138378\n",
       "16   5267.81815  12402.063145\n",
       "17   3490.54910  13004.138378\n",
       "18   6640.54485  13606.213612\n",
       "19  14692.66935  12402.063145\n",
       "20   1622.18850  12402.063145\n",
       "21  13224.69300  13004.138378\n",
       "22   1256.29900  12402.063145\n",
       "23   2643.26850  13004.138378\n",
       "24   1674.63230  12402.063145\n",
       "25   4667.60765  13004.138378\n",
       "26   3732.62510  12402.063145\n",
       "27  11552.90400  15412.439312\n",
       "28   3756.62160  12402.063145\n",
       "29  37465.34375  14208.288845"
      ]
     },
     "execution_count": 102,
     "metadata": {},
     "output_type": "execute_result"
    }
   ],
   "source": [
    "# Create a dataframe comparing the actual and predicted values of y.\n",
    "\n",
    "data = pd.DataFrame({'Actual': y_test.flatten(), 'Predicted': y_predicted.flatten()})\n",
    "data.head(30)"
   ]
  },
  {
   "cell_type": "code",
   "execution_count": 103,
   "id": "056fba6e",
   "metadata": {},
   "outputs": [],
   "source": [
    "# Predict.\n",
    "\n",
    "y_predicted_train = regression.predict(X_train) # This is predicting X_train!"
   ]
  },
  {
   "cell_type": "code",
   "execution_count": 104,
   "id": "ca50240c",
   "metadata": {},
   "outputs": [
    {
     "name": "stdout",
     "output_type": "stream",
     "text": [
      "Slope: [[602.07523344]]\n",
      "Mean squared error:  138458507.6170167\n",
      "R2 score:  0.0038718612232568894\n"
     ]
    }
   ],
   "source": [
    "rmse = mean_squared_error(y_train, y_predicted_train)\n",
    "r2 = r2_score(y_train, y_predicted_train)\n",
    "\n",
    "print('Slope:' ,regression.coef_)\n",
    "print('Mean squared error: ', rmse)\n",
    "print('R2 score: ', r2)"
   ]
  },
  {
   "cell_type": "code",
   "execution_count": 105,
   "id": "e69d83aa",
   "metadata": {},
   "outputs": [
    {
     "data": {
      "image/png": "[encoded data removed]",
      "text/plain": [
       "<Figure size 640x480 with 1 Axes>"
      ]
     },
     "metadata": {},
     "output_type": "display_data"
    }
   ],
   "source": [
    "# Visualizing the training set results.\n",
    "\n",
    "plot_test = plt\n",
    "plot_test.scatter(X_train, y_train, color='green', s = 15)\n",
    "plot_test.plot(X_train, y_predicted_train, color='red', linewidth =3)\n",
    "plot_test.title('Number of children and Insurance Cost (Train set)')\n",
    "plot_test.xlabel('number_of_children')\n",
    "plot_test.ylabel('Annual_insurance_cost')\n",
    "plot_test.show()"
   ]
  },
  {
   "cell_type": "markdown",
   "id": "95dad037",
   "metadata": {},
   "source": [
    "overall there is weak correlation between these variables"
   ]
  }
 ],
 "metadata": {
  "kernelspec": {
   "display_name": "Python 3 (ipykernel)",
   "language": "python",
   "name": "python3"
  },
  "language_info": {
   "codemirror_mode": {
    "name": "ipython",
    "version": 3
   },
   "file_extension": ".py",
   "mimetype": "text/x-python",
   "name": "python",
   "nbconvert_exporter": "python",
   "pygments_lexer": "ipython3",
   "version": "3.10.9"
  }
 },
 "nbformat": 4,
 "nbformat_minor": 5
}
