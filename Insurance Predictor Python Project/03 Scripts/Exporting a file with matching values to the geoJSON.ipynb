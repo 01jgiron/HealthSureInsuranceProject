{
 "cells": [
  {
   "cell_type": "code",
   "execution_count": 20,
   "id": "8995d9b5",
   "metadata": {},
   "outputs": [
    {
     "name": "stdout",
     "output_type": "stream",
     "text": [
      "/Users/jessicagiron/Desktop/Insurance Predictor Python Project/02 Data/df.3.csv\n"
     ]
    }
   ],
   "source": [
    "# Import Libraries\n",
    "\n",
    "import pandas as pd\n",
    "import numpy as np\n",
    "import os\n",
    "import matplotlib.pyplot as plt\n",
    "import seaborn as sns\n",
    "import scipy\n",
    "import matplotlib\n",
    "\n",
    "\n",
    "path=r'/Users/jessicagiron/Desktop/Insurance Predictor Python Project/02 Data/df.3.csv'\n",
    "print(path)\n",
    "df_4=pd.read_csv(path, index_col=False)"
   ]
  },
  {
   "cell_type": "code",
   "execution_count": 21,
   "id": "51726ed0",
   "metadata": {},
   "outputs": [],
   "source": [
    "#create a relationship by having common values between the csv and the geojson and export"
   ]
  },
  {
   "cell_type": "code",
   "execution_count": 22,
   "id": "2fc86e06",
   "metadata": {},
   "outputs": [
    {
     "data": {
      "text/plain": [
       "0       southwest\n",
       "1       southeast\n",
       "2       southeast\n",
       "3       northwest\n",
       "4       northwest\n",
       "          ...    \n",
       "1332    northwest\n",
       "1333    northeast\n",
       "1334    southeast\n",
       "1335    southwest\n",
       "1336    northwest\n",
       "Name: region, Length: 1337, dtype: object"
      ]
     },
     "execution_count": 22,
     "metadata": {},
     "output_type": "execute_result"
    }
   ],
   "source": [
    "df_4['region']"
   ]
  },
  {
   "cell_type": "code",
   "execution_count": 23,
   "id": "a752c664",
   "metadata": {},
   "outputs": [],
   "source": [
    "df_4['region'] = df_4['region'].replace({'northeast':'Northeast',\n",
    "                        'northwest':'West',\n",
    "                        'southwest':'South',\n",
    "                        'southeast':'South'\n",
    "                        })\n"
   ]
  },
  {
   "cell_type": "code",
   "execution_count": 24,
   "id": "5cf2c478",
   "metadata": {},
   "outputs": [
    {
     "data": {
      "text/plain": [
       "0           South\n",
       "1           South\n",
       "2           South\n",
       "3            West\n",
       "4            West\n",
       "          ...    \n",
       "1332         West\n",
       "1333    Northeast\n",
       "1334        South\n",
       "1335        South\n",
       "1336         West\n",
       "Name: region, Length: 1337, dtype: object"
      ]
     },
     "execution_count": 24,
     "metadata": {},
     "output_type": "execute_result"
    }
   ],
   "source": [
    "df_4['region']"
   ]
  },
  {
   "cell_type": "code",
   "execution_count": 26,
   "id": "93da0465",
   "metadata": {},
   "outputs": [],
   "source": [
    "df_4= df_4.drop(['Unnamed: 0'], axis=1)"
   ]
  },
  {
   "cell_type": "code",
   "execution_count": 27,
   "id": "0a17bfb6",
   "metadata": {},
   "outputs": [
    {
     "data": {
      "text/plain": [
       "Index(['age', 'sex', 'bmi', 'number_of_children', 'smoker', 'region',\n",
       "       'annual_insurance_cost', 'cost_category', 'age_category',\n",
       "       'bmi_category'],\n",
       "      dtype='object')"
      ]
     },
     "execution_count": 27,
     "metadata": {},
     "output_type": "execute_result"
    }
   ],
   "source": [
    "df_4.columns"
   ]
  },
  {
   "cell_type": "code",
   "execution_count": 28,
   "id": "e1d7d46f",
   "metadata": {},
   "outputs": [],
   "source": [
    "df_4.to_csv(os.path.join('/Users/jessicagiron/Desktop/Insurance Predictor Python Project/02 Data','df.6'))"
   ]
  },
  {
   "cell_type": "code",
   "execution_count": null,
   "id": "e6ead732",
   "metadata": {},
   "outputs": [],
   "source": []
  }
 ],
 "metadata": {
  "kernelspec": {
   "display_name": "Python 3 (ipykernel)",
   "language": "python",
   "name": "python3"
  },
  "language_info": {
   "codemirror_mode": {
    "name": "ipython",
    "version": 3
   },
   "file_extension": ".py",
   "mimetype": "text/x-python",
   "name": "python",
   "nbconvert_exporter": "python",
   "pygments_lexer": "ipython3",
   "version": "3.10.9"
  }
 },
 "nbformat": 4,
 "nbformat_minor": 5
}
